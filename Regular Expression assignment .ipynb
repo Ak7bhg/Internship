{
 "cells": [
  {
   "cell_type": "code",
   "execution_count": 1,
   "id": "48d7bf4a",
   "metadata": {},
   "outputs": [],
   "source": [
    "import re"
   ]
  },
  {
   "cell_type": "code",
   "execution_count": 2,
   "id": "7ee04089",
   "metadata": {},
   "outputs": [
    {
     "name": "stdout",
     "output_type": "stream",
     "text": [
      "Hello123 contains only alphanumeric characters.\n",
      "Hello@123 contains characters other than alphanumeric.\n"
     ]
    }
   ],
   "source": [
    "import re\n",
    "\n",
    "def check_string(string):\n",
    "    pattern = r'^[a-zA-Z0-9]+$'\n",
    "    return re.match(pattern, string) is not None\n",
    "\n",
    "# Test the function\n",
    "test_string1 = \"Hello123\"\n",
    "test_string2 = \"Hello@123\"\n",
    "\n",
    "if check_string(test_string1):\n",
    "    print(f\"{test_string1} contains only alphanumeric characters.\")\n",
    "else:\n",
    "    print(f\"{test_string1} contains characters other than alphanumeric.\")\n",
    "\n",
    "if check_string(test_string2):\n",
    "    print(f\"{test_string2} contains only alphanumeric characters.\")\n",
    "else:\n",
    "    print(f\"{test_string2} contains characters other than alphanumeric.\")\n"
   ]
  },
  {
   "cell_type": "code",
   "execution_count": 3,
   "id": "55a15998",
   "metadata": {},
   "outputs": [
    {
     "name": "stdout",
     "output_type": "stream",
     "text": [
      "ab matches the pattern.\n",
      "abb matches the pattern.\n",
      "ac does not match the pattern.\n",
      "a matches the pattern.\n"
     ]
    }
   ],
   "source": [
    "import re\n",
    "\n",
    "def match_pattern(string):\n",
    "    pattern = r'^ab*$'\n",
    "    return re.match(pattern, string) is not None\n",
    "\n",
    "# Test the function\n",
    "test_string1 = \"ab\"\n",
    "test_string2 = \"abb\"\n",
    "test_string3 = \"ac\"\n",
    "test_string4 = \"a\"\n",
    "\n",
    "if match_pattern(test_string1):\n",
    "    print(f\"{test_string1} matches the pattern.\")\n",
    "else:\n",
    "    print(f\"{test_string1} does not match the pattern.\")\n",
    "\n",
    "if match_pattern(test_string2):\n",
    "    print(f\"{test_string2} matches the pattern.\")\n",
    "else:\n",
    "    print(f\"{test_string2} does not match the pattern.\")\n",
    "\n",
    "if match_pattern(test_string3):\n",
    "    print(f\"{test_string3} matches the pattern.\")\n",
    "else:\n",
    "    print(f\"{test_string3} does not match the pattern.\")\n",
    "\n",
    "if match_pattern(test_string4):\n",
    "    print(f\"{test_string4} matches the pattern.\")\n",
    "else:\n",
    "    print(f\"{test_string4} does not match the pattern.\")\n"
   ]
  },
  {
   "cell_type": "code",
   "execution_count": 4,
   "id": "b4ee34b5",
   "metadata": {},
   "outputs": [
    {
     "name": "stdout",
     "output_type": "stream",
     "text": [
      "ab matches the pattern.\n",
      "abb matches the pattern.\n",
      "ac does not match the pattern.\n",
      "a does not match the pattern.\n"
     ]
    }
   ],
   "source": [
    "import re\n",
    "\n",
    "def match_pattern(string):\n",
    "    pattern = r'^ab+$'\n",
    "    return re.match(pattern, string) is not None\n",
    "\n",
    "# Test the function\n",
    "test_string1 = \"ab\"\n",
    "test_string2 = \"abb\"\n",
    "test_string3 = \"ac\"\n",
    "test_string4 = \"a\"\n",
    "\n",
    "if match_pattern(test_string1):\n",
    "    print(f\"{test_string1} matches the pattern.\")\n",
    "else:\n",
    "    print(f\"{test_string1} does not match the pattern.\")\n",
    "\n",
    "if match_pattern(test_string2):\n",
    "    print(f\"{test_string2} matches the pattern.\")\n",
    "else:\n",
    "    print(f\"{test_string2} does not match the pattern.\")\n",
    "\n",
    "if match_pattern(test_string3):\n",
    "    print(f\"{test_string3} matches the pattern.\")\n",
    "else:\n",
    "    print(f\"{test_string3} does not match the pattern.\")\n",
    "\n",
    "if match_pattern(test_string4):\n",
    "    print(f\"{test_string4} matches the pattern.\")\n",
    "else:\n",
    "    print(f\"{test_string4} does not match the pattern.\")\n"
   ]
  },
  {
   "cell_type": "code",
   "execution_count": 5,
   "id": "a74bf7ba",
   "metadata": {},
   "outputs": [
    {
     "name": "stdout",
     "output_type": "stream",
     "text": [
      "ab matches the pattern.\n",
      "a matches the pattern.\n",
      "ac does not match the pattern.\n",
      "abb does not match the pattern.\n"
     ]
    }
   ],
   "source": [
    "import re\n",
    "\n",
    "def match_pattern(string):\n",
    "    pattern = r'^ab?$'\n",
    "    return re.match(pattern, string) is not None\n",
    "\n",
    "# Test the function\n",
    "test_string1 = \"ab\"\n",
    "test_string2 = \"a\"\n",
    "test_string3 = \"ac\"\n",
    "test_string4 = \"abb\"\n",
    "\n",
    "if match_pattern(test_string1):\n",
    "    print(f\"{test_string1} matches the pattern.\")\n",
    "else:\n",
    "    print(f\"{test_string1} does not match the pattern.\")\n",
    "\n",
    "if match_pattern(test_string2):\n",
    "    print(f\"{test_string2} matches the pattern.\")\n",
    "else:\n",
    "    print(f\"{test_string2} does not match the pattern.\")\n",
    "\n",
    "if match_pattern(test_string3):\n",
    "    print(f\"{test_string3} matches the pattern.\")\n",
    "else:\n",
    "    print(f\"{test_string3} does not match the pattern.\")\n",
    "\n",
    "if match_pattern(test_string4):\n",
    "    print(f\"{test_string4} matches the pattern.\")\n",
    "else:\n",
    "    print(f\"{test_string4} does not match the pattern.\")\n"
   ]
  },
  {
   "cell_type": "code",
   "execution_count": 6,
   "id": "4861b10c",
   "metadata": {},
   "outputs": [
    {
     "name": "stdout",
     "output_type": "stream",
     "text": [
      "abbb matches the pattern.\n",
      "abbbb does not match the pattern.\n",
      "abb does not match the pattern.\n",
      "aabbb does not match the pattern.\n"
     ]
    }
   ],
   "source": [
    "import re\n",
    "\n",
    "def match_pattern(string):\n",
    "    pattern = r'^abbb$'\n",
    "    return re.match(pattern, string) is not None\n",
    "\n",
    "# Test the function\n",
    "test_string1 = \"abbb\"\n",
    "test_string2 = \"abbbb\"\n",
    "test_string3 = \"abb\"\n",
    "test_string4 = \"aabbb\"\n",
    "\n",
    "if match_pattern(test_string1):\n",
    "    print(f\"{test_string1} matches the pattern.\")\n",
    "else:\n",
    "    print(f\"{test_string1} does not match the pattern.\")\n",
    "\n",
    "if match_pattern(test_string2):\n",
    "    print(f\"{test_string2} matches the pattern.\")\n",
    "else:\n",
    "    print(f\"{test_string2} does not match the pattern.\")\n",
    "\n",
    "if match_pattern(test_string3):\n",
    "    print(f\"{test_string3} matches the pattern.\")\n",
    "else:\n",
    "    print(f\"{test_string3} does not match the pattern.\")\n",
    "\n",
    "if match_pattern(test_string4):\n",
    "    print(f\"{test_string4} matches the pattern.\")\n",
    "else:\n",
    "    print(f\"{test_string4} does not match the pattern.\")\n"
   ]
  },
  {
   "cell_type": "code",
   "execution_count": 7,
   "id": "57017f6f",
   "metadata": {},
   "outputs": [
    {
     "name": "stdout",
     "output_type": "stream",
     "text": [
      "['', 'Split', 'This', 'String', 'Into', 'Uppercase', 'Letters']\n"
     ]
    }
   ],
   "source": [
    "import re\n",
    "\n",
    "def split_uppercase(string):\n",
    "    pattern = r'(?=[A-Z])'\n",
    "    return re.split(pattern, string)\n",
    "\n",
    "# Test the function\n",
    "test_string = \"SplitThisStringIntoUppercaseLetters\"\n",
    "\n",
    "result = split_uppercase(test_string)\n",
    "print(result)\n"
   ]
  },
  {
   "cell_type": "code",
   "execution_count": 8,
   "id": "467b3056",
   "metadata": {},
   "outputs": [
    {
     "name": "stdout",
     "output_type": "stream",
     "text": [
      "abb matches the pattern.\n",
      "abbb matches the pattern.\n",
      "abbbb does not match the pattern.\n",
      "ab does not match the pattern.\n",
      "a does not match the pattern.\n"
     ]
    }
   ],
   "source": [
    "import re\n",
    "\n",
    "def match_pattern(string):\n",
    "    pattern = r'^ab{2,3}$'\n",
    "    return re.match(pattern, string) is not None\n",
    "\n",
    "# Test the function\n",
    "test_string1 = \"abb\"\n",
    "test_string2 = \"abbb\"\n",
    "test_string3 = \"abbbb\"\n",
    "test_string4 = \"ab\"\n",
    "test_string5 = \"a\"\n",
    "\n",
    "if match_pattern(test_string1):\n",
    "    print(f\"{test_string1} matches the pattern.\")\n",
    "else:\n",
    "    print(f\"{test_string1} does not match the pattern.\")\n",
    "\n",
    "if match_pattern(test_string2):\n",
    "    print(f\"{test_string2} matches the pattern.\")\n",
    "else:\n",
    "    print(f\"{test_string2} does not match the pattern.\")\n",
    "\n",
    "if match_pattern(test_string3):\n",
    "    print(f\"{test_string3} matches the pattern.\")\n",
    "else:\n",
    "    print(f\"{test_string3} does not match the pattern.\")\n",
    "\n",
    "if match_pattern(test_string4):\n",
    "    print(f\"{test_string4} matches the pattern.\")\n",
    "else:\n",
    "    print(f\"{test_string4} does not match the pattern.\")\n",
    "\n",
    "if match_pattern(test_string5):\n",
    "    print(f\"{test_string5} matches the pattern.\")\n",
    "else:\n",
    "    print(f\"{test_string5} does not match the pattern.\")\n"
   ]
  },
  {
   "cell_type": "code",
   "execution_count": 9,
   "id": "d4752e87",
   "metadata": {},
   "outputs": [
    {
     "name": "stdout",
     "output_type": "stream",
     "text": [
      "['ello_world', 'is_a', 'common_phrase', 'programming_is']\n"
     ]
    }
   ],
   "source": [
    "import re\n",
    "\n",
    "def find_sequences(string):\n",
    "    pattern = r'[a-z]+_[a-z]+'\n",
    "    return re.findall(pattern, string)\n",
    "\n",
    "# Test the function\n",
    "test_string = \"Hello_world is_a_common_phrase. programming_is_fun\"\n",
    "\n",
    "sequences = find_sequences(test_string)\n",
    "print(sequences)\n"
   ]
  },
  {
   "cell_type": "code",
   "execution_count": 10,
   "id": "7e69a2f7",
   "metadata": {},
   "outputs": [
    {
     "name": "stdout",
     "output_type": "stream",
     "text": [
      "axb matches the pattern.\n",
      "abcdefb matches the pattern.\n",
      "azb matches the pattern.\n",
      "ab matches the pattern.\n"
     ]
    }
   ],
   "source": [
    "import re\n",
    "\n",
    "def match_pattern(string):\n",
    "    pattern = r'^a.*b$'\n",
    "    return re.match(pattern, string) is not None\n",
    "\n",
    "# Test the function\n",
    "test_string1 = \"axb\"\n",
    "test_string2 = \"abcdefb\"\n",
    "test_string3 = \"azb\"\n",
    "test_string4 = \"ab\"\n",
    "\n",
    "if match_pattern(test_string1):\n",
    "    print(f\"{test_string1} matches the pattern.\")\n",
    "else:\n",
    "    print(f\"{test_string1} does not match the pattern.\")\n",
    "\n",
    "if match_pattern(test_string2):\n",
    "    print(f\"{test_string2} matches the pattern.\")\n",
    "else:\n",
    "    print(f\"{test_string2} does not match the pattern.\")\n",
    "\n",
    "if match_pattern(test_string3):\n",
    "    print(f\"{test_string3} matches the pattern.\")\n",
    "else:\n",
    "    print(f\"{test_string3} does not match the pattern.\")\n",
    "\n",
    "if match_pattern(test_string4):\n",
    "    print(f\"{test_string4} matches the pattern.\")\n",
    "else:\n",
    "    print(f\"{test_string4} does not match the pattern.\")\n"
   ]
  },
  {
   "cell_type": "code",
   "execution_count": 11,
   "id": "76805139",
   "metadata": {},
   "outputs": [
    {
     "name": "stdout",
     "output_type": "stream",
     "text": [
      "'Hello' is matched at the beginning of 'Hello, world!'.\n",
      "'Python' is matched at the beginning of 'Python is awesome!'.\n",
      "'Hi' is matched at the beginning of 'Hi, there.'.\n"
     ]
    }
   ],
   "source": [
    "import re\n",
    "\n",
    "def match_pattern(string, word):\n",
    "    pattern = rf'^\\b{re.escape(word)}'\n",
    "    return re.match(pattern, string) is not None\n",
    "\n",
    "# Test the function\n",
    "test_string1 = \"Hello, world!\"\n",
    "test_string2 = \"Python is awesome!\"\n",
    "test_string3 = \"Hi, there.\"\n",
    "word1 = \"Hello\"\n",
    "word2 = \"Python\"\n",
    "word3 = \"Hi\"\n",
    "\n",
    "if match_pattern(test_string1, word1):\n",
    "    print(f\"'{word1}' is matched at the beginning of '{test_string1}'.\")\n",
    "else:\n",
    "    print(f\"'{word1}' is not matched at the beginning of '{test_string1}'.\")\n",
    "\n",
    "if match_pattern(test_string2, word2):\n",
    "    print(f\"'{word2}' is matched at the beginning of '{test_string2}'.\")\n",
    "else:\n",
    "    print(f\"'{word2}' is not matched at the beginning of '{test_string2}'.\")\n",
    "\n",
    "if match_pattern(test_string3, word3):\n",
    "    print(f\"'{word3}' is matched at the beginning of '{test_string3}'.\")\n",
    "else:\n",
    "    print(f\"'{word3}' is not matched at the beginning of '{test_string3}'.\")\n"
   ]
  },
  {
   "cell_type": "code",
   "execution_count": 12,
   "id": "269ed768",
   "metadata": {},
   "outputs": [
    {
     "name": "stdout",
     "output_type": "stream",
     "text": [
      "Hello_World123 matches the pattern.\n",
      "Hello@123 does not match the pattern.\n",
      "helloWorld matches the pattern.\n",
      "12345 matches the pattern.\n",
      "_underscore_ matches the pattern.\n"
     ]
    }
   ],
   "source": [
    "import re\n",
    "\n",
    "def match_pattern(string):\n",
    "    pattern = r'^[a-zA-Z0-9_]+$'\n",
    "    return re.match(pattern, string) is not None\n",
    "\n",
    "# Test the function\n",
    "test_string1 = \"Hello_World123\"\n",
    "test_string2 = \"Hello@123\"\n",
    "test_string3 = \"helloWorld\"\n",
    "test_string4 = \"12345\"\n",
    "test_string5 = \"_underscore_\"\n",
    "\n",
    "if match_pattern(test_string1):\n",
    "    print(f\"{test_string1} matches the pattern.\")\n",
    "else:\n",
    "    print(f\"{test_string1} does not match the pattern.\")\n",
    "\n",
    "if match_pattern(test_string2):\n",
    "    print(f\"{test_string2} matches the pattern.\")\n",
    "else:\n",
    "    print(f\"{test_string2} does not match the pattern.\")\n",
    "\n",
    "if match_pattern(test_string3):\n",
    "    print(f\"{test_string3} matches the pattern.\")\n",
    "else:\n",
    "    print(f\"{test_string3} does not match the pattern.\")\n",
    "\n",
    "if match_pattern(test_string4):\n",
    "    print(f\"{test_string4} matches the pattern.\")\n",
    "else:\n",
    "    print(f\"{test_string4} does not match the pattern.\")\n",
    "\n",
    "if match_pattern(test_string5):\n",
    "    print(f\"{test_string5} matches the pattern.\")\n",
    "else:\n",
    "    print(f\"{test_string5} does not match the pattern.\")\n"
   ]
  },
  {
   "cell_type": "code",
   "execution_count": 13,
   "id": "987be512",
   "metadata": {},
   "outputs": [
    {
     "name": "stdout",
     "output_type": "stream",
     "text": [
      "12345 starts with 123.\n",
      "98765 does not start with 123.\n",
      "54321 does not start with 987.\n"
     ]
    }
   ],
   "source": [
    "def starts_with_number(string, number):\n",
    "    return string.startswith(str(number))\n",
    "\n",
    "# Test the function\n",
    "test_string1 = \"12345\"\n",
    "test_string2 = \"98765\"\n",
    "test_string3 = \"54321\"\n",
    "number1 = 123\n",
    "number2 = 987\n",
    "\n",
    "if starts_with_number(test_string1, number1):\n",
    "    print(f\"{test_string1} starts with {number1}.\")\n",
    "else:\n",
    "    print(f\"{test_string1} does not start with {number1}.\")\n",
    "\n",
    "if starts_with_number(test_string2, number1):\n",
    "    print(f\"{test_string2} starts with {number1}.\")\n",
    "else:\n",
    "    print(f\"{test_string2} does not start with {number1}.\")\n",
    "\n",
    "if starts_with_number(test_string3, number2):\n",
    "    print(f\"{test_string3} starts with {number2}.\")\n",
    "else:\n",
    "    print(f\"{test_string3} does not start with {number2}.\")\n"
   ]
  },
  {
   "cell_type": "code",
   "execution_count": 14,
   "id": "534f749c",
   "metadata": {},
   "outputs": [
    {
     "name": "stdout",
     "output_type": "stream",
     "text": [
      "Original IP: 192.168.001.001 --> Updated IP: 192.168.1.1\n",
      "Original IP: 010.001.001.010 --> Updated IP: 10.1.1.10\n",
      "Original IP: 000.001.010.100 --> Updated IP: 0.1.10.100\n"
     ]
    }
   ],
   "source": [
    "def remove_leading_zeros(ip_address):\n",
    "    # Split the IP address into its components\n",
    "    components = ip_address.split('.')\n",
    "\n",
    "    # Remove leading zeros from each component\n",
    "    components = [str(int(component)) for component in components]\n",
    "\n",
    "    # Reconstruct the IP address with leading zeros removed\n",
    "    new_ip_address = '.'.join(components)\n",
    "\n",
    "    return new_ip_address\n",
    "\n",
    "# Test the function\n",
    "ip_address1 = \"192.168.001.001\"\n",
    "ip_address2 = \"010.001.001.010\"\n",
    "ip_address3 = \"000.001.010.100\"\n",
    "\n",
    "new_ip1 = remove_leading_zeros(ip_address1)\n",
    "new_ip2 = remove_leading_zeros(ip_address2)\n",
    "new_ip3 = remove_leading_zeros(ip_address3)\n",
    "\n",
    "print(f\"Original IP: {ip_address1} --> Updated IP: {new_ip1}\")\n",
    "print(f\"Original IP: {ip_address2} --> Updated IP: {new_ip2}\")\n",
    "print(f\"Original IP: {ip_address3} --> Updated IP: {new_ip3}\")\n"
   ]
  },
  {
   "cell_type": "code",
   "execution_count": 28,
   "id": "66dba73d",
   "metadata": {},
   "outputs": [
    {
     "ename": "FileNotFoundError",
     "evalue": "[Errno 2] No such file or directory: 'text_file.txt'",
     "output_type": "error",
     "traceback": [
      "\u001b[1;31m---------------------------------------------------------------------------\u001b[0m",
      "\u001b[1;31mFileNotFoundError\u001b[0m                         Traceback (most recent call last)",
      "\u001b[1;32m~\\AppData\\Local\\Temp\\ipykernel_9600\\2649880295.py\u001b[0m in \u001b[0;36m<module>\u001b[1;34m\u001b[0m\n\u001b[0;32m     14\u001b[0m \u001b[0mfile_path\u001b[0m \u001b[1;33m=\u001b[0m \u001b[1;34m'text_file.txt'\u001b[0m\u001b[1;33m\u001b[0m\u001b[1;33m\u001b[0m\u001b[0m\n\u001b[0;32m     15\u001b[0m \u001b[1;33m\u001b[0m\u001b[0m\n\u001b[1;32m---> 16\u001b[1;33m \u001b[0mdate_string\u001b[0m \u001b[1;33m=\u001b[0m \u001b[0mmatch_date_string\u001b[0m\u001b[1;33m(\u001b[0m\u001b[0mfile_path\u001b[0m\u001b[1;33m)\u001b[0m\u001b[1;33m\u001b[0m\u001b[1;33m\u001b[0m\u001b[0m\n\u001b[0m\u001b[0;32m     17\u001b[0m \u001b[1;33m\u001b[0m\u001b[0m\n\u001b[0;32m     18\u001b[0m \u001b[1;32mif\u001b[0m \u001b[0mdate_string\u001b[0m\u001b[1;33m:\u001b[0m\u001b[1;33m\u001b[0m\u001b[1;33m\u001b[0m\u001b[0m\n",
      "\u001b[1;32m~\\AppData\\Local\\Temp\\ipykernel_9600\\2649880295.py\u001b[0m in \u001b[0;36mmatch_date_string\u001b[1;34m(file_path)\u001b[0m\n\u001b[0;32m      3\u001b[0m \u001b[1;32mdef\u001b[0m \u001b[0mmatch_date_string\u001b[0m\u001b[1;33m(\u001b[0m\u001b[0mfile_path\u001b[0m\u001b[1;33m)\u001b[0m\u001b[1;33m:\u001b[0m\u001b[1;33m\u001b[0m\u001b[1;33m\u001b[0m\u001b[0m\n\u001b[0;32m      4\u001b[0m     \u001b[0mpattern\u001b[0m \u001b[1;33m=\u001b[0m \u001b[1;34mr'\\b[A-Za-z]+\\s+\\d+(?:st|nd|rd|th)?\\s+\\d{4}\\b'\u001b[0m\u001b[1;33m\u001b[0m\u001b[1;33m\u001b[0m\u001b[0m\n\u001b[1;32m----> 5\u001b[1;33m     \u001b[1;32mwith\u001b[0m \u001b[0mopen\u001b[0m\u001b[1;33m(\u001b[0m\u001b[0mfile_path\u001b[0m\u001b[1;33m,\u001b[0m \u001b[1;34m'r'\u001b[0m\u001b[1;33m)\u001b[0m \u001b[1;32mas\u001b[0m \u001b[0mfile\u001b[0m\u001b[1;33m:\u001b[0m\u001b[1;33m\u001b[0m\u001b[1;33m\u001b[0m\u001b[0m\n\u001b[0m\u001b[0;32m      6\u001b[0m         \u001b[0mtext\u001b[0m \u001b[1;33m=\u001b[0m \u001b[0mfile\u001b[0m\u001b[1;33m.\u001b[0m\u001b[0mread\u001b[0m\u001b[1;33m(\u001b[0m\u001b[1;33m)\u001b[0m\u001b[1;33m\u001b[0m\u001b[1;33m\u001b[0m\u001b[0m\n\u001b[0;32m      7\u001b[0m     \u001b[0mmatch\u001b[0m \u001b[1;33m=\u001b[0m \u001b[0mre\u001b[0m\u001b[1;33m.\u001b[0m\u001b[0mmatch\u001b[0m\u001b[1;33m(\u001b[0m\u001b[0mpattern\u001b[0m\u001b[1;33m,\u001b[0m \u001b[0mtext\u001b[0m\u001b[1;33m)\u001b[0m\u001b[1;33m\u001b[0m\u001b[1;33m\u001b[0m\u001b[0m\n",
      "\u001b[1;31mFileNotFoundError\u001b[0m: [Errno 2] No such file or directory: 'text_file.txt'"
     ]
    }
   ],
   "source": [
    "import re\n",
    "\n",
    "def match_date_string(file_path):\n",
    "    pattern = r'\\b[A-Za-z]+\\s+\\d+(?:st|nd|rd|th)?\\s+\\d{4}\\b'\n",
    "    with open(file_path, 'r') as file:\n",
    "        text = file.read()\n",
    "    match = re.match(pattern, text)\n",
    "    if match:\n",
    "        return match.group()\n",
    "    else:\n",
    "        return None\n",
    "\n",
    "# Test the function\n",
    "file_path = 'text_file.txt'\n",
    "\n",
    "date_string = match_date_string(file_path)\n",
    "\n",
    "if date_string:\n",
    "    print(f\"Date string found: {date_string}\")\n",
    "else:\n",
    "    print(\"No date string found in the text.\")\n"
   ]
  },
  {
   "cell_type": "code",
   "execution_count": 18,
   "id": "12413f0a",
   "metadata": {},
   "outputs": [
    {
     "name": "stdout",
     "output_type": "stream",
     "text": [
      "Found words: fox, dog\n"
     ]
    }
   ],
   "source": [
    "def search_words(text, words):\n",
    "    found_words = []\n",
    "    for word in words:\n",
    "        if word in text:\n",
    "            found_words.append(word)\n",
    "    return found_words\n",
    "\n",
    "# Sample text\n",
    "sample_text = 'The quick brown fox jumps over the lazy dog.'\n",
    "\n",
    "# Searched words\n",
    "searched_words = ['fox', 'dog', 'horse']\n",
    "\n",
    "# Search for words in the text\n",
    "found_words = search_words(sample_text, searched_words)\n",
    "\n",
    "# Print the found words\n",
    "if found_words:\n",
    "    print(f\"Found words: {', '.join(found_words)}\")\n",
    "else:\n",
    "    print(\"No words found.\")\n"
   ]
  },
  {
   "cell_type": "code",
   "execution_count": 19,
   "id": "0bc655ca",
   "metadata": {},
   "outputs": [
    {
     "name": "stdout",
     "output_type": "stream",
     "text": [
      "Pattern 'fox' found at location(s): [16]\n"
     ]
    }
   ],
   "source": [
    "def search_pattern(text, pattern):\n",
    "    locations = []\n",
    "    start = 0\n",
    "    while True:\n",
    "        # Find the next occurrence of the pattern\n",
    "        index = text.find(pattern, start)\n",
    "        if index == -1:\n",
    "            break  # No more occurrences found\n",
    "        locations.append(index)\n",
    "        start = index + 1\n",
    "    return locations\n",
    "\n",
    "# Sample text\n",
    "sample_text = 'The quick brown fox jumps over the lazy dog.'\n",
    "\n",
    "# Searched pattern\n",
    "pattern = 'fox'\n",
    "\n",
    "# Search for the pattern in the text\n",
    "occurrence_locations = search_pattern(sample_text, pattern)\n",
    "\n",
    "# Print the occurrence locations\n",
    "if occurrence_locations:\n",
    "    print(f\"Pattern '{pattern}' found at location(s): {occurrence_locations}\")\n",
    "else:\n",
    "    print(\"Pattern not found.\")\n"
   ]
  },
  {
   "cell_type": "code",
   "execution_count": 20,
   "id": "910312dc",
   "metadata": {},
   "outputs": [
    {
     "name": "stdout",
     "output_type": "stream",
     "text": [
      "Substrings found: ['exercises', 'exercises', 'exercises']\n"
     ]
    }
   ],
   "source": [
    "import re\n",
    "\n",
    "def find_substrings(text, pattern):\n",
    "    substrings = re.findall(pattern, text)\n",
    "    return substrings\n",
    "\n",
    "# Sample text\n",
    "sample_text = 'Python exercises, PHP exercises, C# exercises'\n",
    "\n",
    "# Pattern to search for\n",
    "pattern = 'exercises'\n",
    "\n",
    "# Find substrings based on the pattern\n",
    "found_substrings = find_substrings(sample_text, pattern)\n",
    "\n",
    "# Print the found substrings\n",
    "if found_substrings:\n",
    "    print(f\"Substrings found: {found_substrings}\")\n",
    "else:\n",
    "    print(\"No substrings found.\")\n"
   ]
  },
  {
   "cell_type": "code",
   "execution_count": 21,
   "id": "c77d6b69",
   "metadata": {},
   "outputs": [
    {
     "name": "stdout",
     "output_type": "stream",
     "text": [
      "Occurrences and positions of 'exercises':\n",
      "'exercises' found at position: 7\n",
      "'exercises' found at position: 22\n",
      "'exercises' found at position: 36\n"
     ]
    }
   ],
   "source": [
    "def find_occurrences(text, substring):\n",
    "    occurrences = []\n",
    "    start = 0\n",
    "    while True:\n",
    "        index = text.find(substring, start)\n",
    "        if index == -1:\n",
    "            break  # No more occurrences found\n",
    "        occurrences.append((substring, index))\n",
    "        start = index + 1\n",
    "    return occurrences\n",
    "\n",
    "# Sample text\n",
    "sample_text = 'Python exercises, PHP exercises, C# exercises'\n",
    "\n",
    "# Substring to search for\n",
    "substring = 'exercises'\n",
    "\n",
    "# Find occurrences and positions of the substring in the text\n",
    "occurrence_positions = find_occurrences(sample_text, substring)\n",
    "\n",
    "# Print the occurrence and position information\n",
    "if occurrence_positions:\n",
    "    print(f\"Occurrences and positions of '{substring}':\")\n",
    "    for occurrence, position in occurrence_positions:\n",
    "        print(f\"'{occurrence}' found at position: {position}\")\n",
    "else:\n",
    "    print(\"Substring not found.\")\n"
   ]
  },
  {
   "cell_type": "code",
   "execution_count": 22,
   "id": "8c4b0242",
   "metadata": {},
   "outputs": [
    {
     "name": "stdout",
     "output_type": "stream",
     "text": [
      "Original date: 2022-07-16\n",
      "Converted date: 16-07-2022\n"
     ]
    }
   ],
   "source": [
    "def convert_date(date):\n",
    "    parts = date.split('-')\n",
    "    if len(parts) != 3:\n",
    "        return \"Invalid date format\"\n",
    "    year, month, day = parts\n",
    "    return f\"{day}-{month}-{year}\"\n",
    "\n",
    "# Test the function\n",
    "date = \"2022-07-16\"\n",
    "converted_date = convert_date(date)\n",
    "print(f\"Original date: {date}\")\n",
    "print(f\"Converted date: {converted_date}\")\n"
   ]
  },
  {
   "cell_type": "code",
   "execution_count": 23,
   "id": "5e73c49b",
   "metadata": {},
   "outputs": [
    {
     "name": "stdout",
     "output_type": "stream",
     "text": [
      "Words starting with 'a' or 'e': ['Apple', 'elephant', 'eagle', 'ant']\n"
     ]
    }
   ],
   "source": [
    "import re\n",
    "\n",
    "def find_words_starting_with_a_or_e(string):\n",
    "    pattern = r'\\b[aAeE]\\w+'\n",
    "    matches = re.findall(pattern, string)\n",
    "    return matches\n",
    "\n",
    "# Test the function\n",
    "text = \"Apple, elephant, banana, eagle, ant, orange\"\n",
    "\n",
    "words = find_words_starting_with_a_or_e(text)\n",
    "print(f\"Words starting with 'a' or 'e': {words}\")\n"
   ]
  },
  {
   "cell_type": "code",
   "execution_count": 24,
   "id": "7bb9bb9e",
   "metadata": {},
   "outputs": [
    {
     "name": "stdout",
     "output_type": "stream",
     "text": [
      "Number: 10, Position: 7-8\n",
      "Number: 5, Position: 18-18\n",
      "Number: 3, Position: 33-33\n"
     ]
    }
   ],
   "source": [
    "import re\n",
    "\n",
    "def separate_numbers_with_positions(string):\n",
    "    pattern = r'\\d+'\n",
    "    matches = re.finditer(pattern, string)\n",
    "    for match in matches:\n",
    "        number = match.group()\n",
    "        start = match.start()\n",
    "        end = match.end()\n",
    "        print(f\"Number: {number}, Position: {start}-{end-1}\")\n",
    "\n",
    "# Test the function\n",
    "text = \"I have 10 apples, 5 oranges, and 3 bananas.\"\n",
    "\n",
    "separate_numbers_with_positions(text)\n"
   ]
  },
  {
   "cell_type": "code",
   "execution_count": 25,
   "id": "0081014f",
   "metadata": {},
   "outputs": [
    {
     "name": "stdout",
     "output_type": "stream",
     "text": [
      "The maximum numeric value is: 99\n"
     ]
    }
   ],
   "source": [
    "import re\n",
    "\n",
    "def extract_maximum_numeric_value(string):\n",
    "    pattern = r'\\b\\d+\\b'\n",
    "    numbers = re.findall(pattern, string)\n",
    "    if numbers:\n",
    "        max_number = max(numbers, key=int)\n",
    "        return int(max_number)\n",
    "    else:\n",
    "        return None\n",
    "\n",
    "# Test the function\n",
    "text = \"The maximum value is 42, but there are also 15 and 99.\"\n",
    "\n",
    "max_value = extract_maximum_numeric_value(text)\n",
    "if max_value is not None:\n",
    "    print(f\"The maximum numeric value is: {max_value}\")\n",
    "else:\n",
    "    print(\"No numeric value found.\")\n"
   ]
  },
  {
   "cell_type": "code",
   "execution_count": null,
   "id": "e02ed6f8",
   "metadata": {},
   "outputs": [],
   "source": []
  }
 ],
 "metadata": {
  "kernelspec": {
   "display_name": "Python 3 (ipykernel)",
   "language": "python",
   "name": "python3"
  },
  "language_info": {
   "codemirror_mode": {
    "name": "ipython",
    "version": 3
   },
   "file_extension": ".py",
   "mimetype": "text/x-python",
   "name": "python",
   "nbconvert_exporter": "python",
   "pygments_lexer": "ipython3",
   "version": "3.9.13"
  }
 },
 "nbformat": 4,
 "nbformat_minor": 5
}
